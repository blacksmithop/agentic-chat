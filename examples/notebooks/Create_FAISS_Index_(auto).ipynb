{
 "cells": [
  {
   "cell_type": "code",
   "execution_count": null,
   "id": "6fb8caf9",
   "metadata": {},
   "outputs": [
    {
     "name": "stderr",
     "output_type": "stream",
     "text": [
      "/home/abhi/.local/share/virtualenvs/langgraph_agent-kz_kHvnr/lib/python3.10/site-packages/langchain/embeddings/cache.py:58: UserWarning: Using default key encoder: SHA‑1 is *not* collision‑resistant. While acceptable for most cache scenarios, a motivated attacker can craft two different payloads that map to the same cache key. If that risk matters in your environment, supply a stronger encoder (e.g. SHA‑256 or BLAKE2) via the `key_encoder` argument. If you change the key encoder, consider also creating a new cache, to avoid (the potential for) collisions with existing keys.\n",
      "  _warn_about_sha1_encoder()\n",
      "USER_AGENT environment variable not set, consider setting it to identify your requests.\n"
     ]
    }
   ],
   "source": [
    "from langchain_community.document_loaders import PyPDFLoader\n",
    "import faiss\n",
    "from langchain_community.vectorstores import FAISS\n",
    "from os import listdir, path, chdir\n",
    "\n",
    "chdir(\"..\")\n",
    "chdir(\"..\")\n",
    "\n",
    "from utils.llm import embedding_model\n",
    "from uuid import uuid4"
   ]
  },
  {
   "cell_type": "markdown",
   "id": "63a0aad6",
   "metadata": {},
   "source": [
    "#### Identify dataset files"
   ]
  },
  {
   "cell_type": "code",
   "execution_count": null,
   "id": "8b99cef2",
   "metadata": {},
   "outputs": [],
   "source": [
    "PDF_DIR = \"./assets/pdf\"\n",
    "\n",
    "all_files = listdir(PDF_DIR)\n",
    "pdf_files = [file for file in all_files if file.endswith(\".pdf\")]\n",
    "print(pdf_files)"
   ]
  },
  {
   "cell_type": "markdown",
   "id": "04bd1e54",
   "metadata": {},
   "source": [
    "#### Read pdf content"
   ]
  },
  {
   "cell_type": "code",
   "execution_count": null,
   "id": "86053947",
   "metadata": {},
   "outputs": [],
   "source": [
    "def load_pdf_files(file_path: str):\n",
    "    for file_name in pdf_files:\n",
    "        file_path = path.join(PDF_DIR, file_name)\n",
    "        loader = PyPDFLoader(file_path=file_path)\n",
    "        docs = loader.load()\n",
    "        yield file_name, docs"
   ]
  },
  {
   "cell_type": "markdown",
   "id": "6cabfc9c",
   "metadata": {},
   "source": [
    "#### Define index"
   ]
  },
  {
   "cell_type": "code",
   "execution_count": null,
   "id": "aec6ec8d",
   "metadata": {},
   "outputs": [],
   "source": [
    "index = faiss.IndexFlatL2(len(embeddings.embed_query(\"Hi\")))"
   ]
  },
  {
   "cell_type": "markdown",
   "id": "9d5c227e",
   "metadata": {},
   "source": [
    "#### Add documents to Vector Store"
   ]
  },
  {
   "cell_type": "code",
   "execution_count": null,
   "id": "fc180c18",
   "metadata": {},
   "outputs": [],
   "source": [
    "try:\n",
    "    FAISS.load_local(\"./assets/faiss_index/base\" , embeddings=embeddings, allow_dangerous_deserialization=True)\n",
    "except Exception as e:\n",
    "    print(f\"Faiss Index not found\")\n",
    "    documents = []\n",
    "    \n",
    "    for file_name, docs in load_pdf_files(file_path=PDF_DIR):\n",
    "        print(f\"Loading documents for {file_name}\")\n",
    "        documents.extend(docs)\n",
    "        \n",
    "    vector_store = FAISS.from_documents(documents=documents, embedding=embeddings)\n",
    "\n",
    "    vector_store.save_local(\"./assets/faiss_index/base\")"
   ]
  },
  {
   "cell_type": "code",
   "execution_count": null,
   "id": "1e9b4c1c",
   "metadata": {},
   "outputs": [],
   "source": [
    "vector_store.similarity_search(\"task planning\")"
   ]
  }
 ],
 "metadata": {
  "kernelspec": {
   "display_name": "Python 3",
   "language": "python",
   "name": "python3"
  },
  "language_info": {
   "codemirror_mode": {
    "name": "ipython",
    "version": 3
   },
   "file_extension": ".py",
   "mimetype": "text/x-python",
   "name": "python",
   "nbconvert_exporter": "python",
   "pygments_lexer": "ipython3",
   "version": "3.10.5"
  }
 },
 "nbformat": 4,
 "nbformat_minor": 5
}
