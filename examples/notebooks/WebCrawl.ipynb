{
 "cells": [
  {
   "cell_type": "code",
   "execution_count": null,
   "id": "cc6035ac",
   "metadata": {},
   "outputs": [],
   "source": [
    "from langchain_community.document_loaders import WebBaseLoader\n",
    "from os import chdir\n",
    "\n",
    "chdir(\"..\")\n",
    "chdir(\"..\")"
   ]
  },
  {
   "cell_type": "code",
   "execution_count": 2,
   "id": "3e94621f",
   "metadata": {},
   "outputs": [],
   "source": [
    "loader = WebBaseLoader(\"https://swizec.com/blog/you-cant-side-quest-a-product/\")\n",
    "docs = loader.load()"
   ]
  },
  {
   "cell_type": "code",
   "execution_count": 3,
   "id": "b2fda105",
   "metadata": {},
   "outputs": [
    {
     "data": {
      "text/plain": [
       "Document(metadata={'source': 'https://swizec.com/blog/you-cant-side-quest-a-product/', 'title': \"You can't side-quest a product | Swizec Teller\", 'description': 'Here\\'s a trap that talented engineers fall into all the time. It creates frustration, burnout, and the genre of tweets that read like \"Why don\\'t people care about the amazing work I\\'m doing\".', 'language': 'en-us'}, page_content='You can\\'t side-quest a product | Swizec Tellerswizec.comSenior Mindset BookGet promoted, earn a bigger salary, work for top companiesLearn moreStart with a free chapterGet a free chapter from the Senior Engineer Mindset book and a sample audiobook chapter, followed by a Senior Mindset 101 email course.Your NameYour EmailYour AddressGet my free chapter 💌Join 16K+ engineers learning lessons from my \"raw and honest from the heart\" emails.You can\\'t side-quest a productHere\\'s a trap that talented engineers fall into all the time. It creates frustration, burnout, and the genre of tweets that read like \"Why don\\'t people care about the amazing work I\\'m doing\".\\nSolve the problem, not a different more difficult problem\\nJane, Joe, and Alice are faced with a challenge: They\\'re building a project that looks like it might involve a series of web forms. The first one is simple, but then there\\'s the next form and the next and the next one after that.\\nThey look at each other in the swarm meeting and sigh. This looks tedious.\\nJoe speaks first: \"Great, web forms. A bunch of them. It\\'s been so long since we did anything interesting.\"\\n\"We could make it easier. Build a tool that spits these out ... 🤔\" adds Alice.\\nJane gets a twinkle in her eye. \"YES! And then we can make a basic JSON config for the forms that our stakeholders could use. They could even ask ChatGPT to write the config for them\"\\nJoe gets excited. \"We\\'d never have to build a web form again! The stakeholders would be fully empowered to move on their own 🤩\"\\nThey come back to Bob, the PM, with a revised estimate. He clears his throat and says \"Did you say 2 weeks for a form?\"\\n\"I know it\\'s a lot Bob but think about how much time this will save down the line. This is gonna be epic\", Alice says.\\nUnconvinced, Bob lets the team experiment. He believes engineers should get us across the water, not just build a bridge.\\n3 weeks later he gets a form, it mostly works. But priorities have shifted and the team is off to working on the marketing site. The pile of forms will have to wait.\\nYou can\\'t side-quest a product\\nI was once Jane, Joe, and Alice building a form generator framework. We had a new company direction that looked like lots of forms and a small dysfunctional team. The perfect breeding ground for solo technical initiatives that solve the wrong problem.\\nMake APIs, not friends was our motto.\\nThe ask was to build the first form to start testing the new initiative. But I thought my approach to solve all forms forever was brilliant and forged ahead.\\nAfter 2 weeks of excitement, I delivered the first one-page form. Nobody was impressed. Why did it take so long? Aren\\'t you a senior engineer? 2 weeks for a basic form? It doesn\\'t even look that good. The validations are wrong. Can we move these fields around?\\nMaking changes to our forms was unpredictable. One ask was effortless and easy, another similar ask meant hours of work to add new features to the framework. Other basic asks exposed interesting new bugs. This was frustrating to our PM because each new estimate felt like a surprise. \"Are the engineers fucking with me? How do you plan a roadmap in this environment??\"\\nThe worst part was that my framework made our forms tightly coupled. Because every form used the same core, you had to\\nconstantly test and re-test everything when making changes.\\nThere\\'s more to product than code\\nWe didn\\'t have automated testing of course. Or a proper development process for the framework itself. It was purely one engineer\\'s (me) windmill tipping effort to solve forms in a systematic way.\\nIn a better-staffed company you\\'d solve this with a platform team of some sort. Or reserve a staff engineer\\'s time to work on the framework. Leadership buy-in is key. They have to believe your thing brings value to the company and invest in your success.\\nThe framework needs to be somebody\\'s product and get the full attention it deserves. You need:\\n\\na proper discovery process,\\nmanaging stakeholders (other engineers),\\nOKRs tied to the success of the framework,\\nproper testing and observability,\\ndocumentation,\\nrelease management,\\ntime to offer help and support\\n\\nA framework or library is a product. It needs close to the same love and attention your main products get. The bigger the company, the more of this meta-love it\\'s going to need. You cannot do this as an unsanctioned begrudgingly tolerated side quest.\\nWithout love, your framework will die\\nFriends tell me that after I left the company, working with my frame builder was \"super annoying\". The abstraction was nice when it worked and basic forms were quick to build, but almost none of the forms they needed were basic. Every form had some exception they had to bang into place.\\nThe forms never changed frequently enough to warrant the \"Just write this simple config, anyone can do it\" approach I created. Business stakeholders never wanted to build and configure their own form, obviously. That\\'s what the engineers are for.\\nSoon the builder was scrapped and the team went back to building forms out of basic elements by hand. It was more work per form but quicker to build, easier to understand, simpler to ship, better for all the special cases, easier to estimate, and with fewer unexpected bugs across forms.\\nYou can\\'t fix the wrong abstraction. You have to throw it out and start again. Like kicking a can.\\nCheers,\\n~SwizecPublished on July 3rd, 2024 in Engineering, Software Architecture, Complexity, Scaling Fast BookDid you enjoy this article?👎👍Continue reading about You can\\'t side-quest a productSemantically similar articles hand-picked by GPT-4A better roadmap solves many issues\"Yes caviar is great, here\\'s a ham sandwich\"5 soloists in a trench coatOwn the outcome, not the workI\\'m a different engineer than I was 3 years agoLearned something new? Read more Software Engineering Lessons from Production\\nI write articles with real insight into the career and skills of a modern software engineer. \"Raw and honest from the heart!\" as one reader described them. Fueled by lessons learned over 20 years of building production code for side-projects, small businesses, and hyper growth startups. Both successful and not.\\nSubscribe below 👇Software Engineering Lessons from Production\\nJoin Swizec\\'s Newsletter and get insightful emails 💌 on mindsets, tactics, and technical skills for your career. Real lessons from building production software. No bullshit.\\n\"Man, love your simple writing! Yours is the only newsletter I open and only blog that I give a fuck to read & scroll\\ntill the end. And wow always take away lessons with me.\\nInspiring! And very relatable. 👌\"~ Ashish KumarYour NameYour EmailYour AddressSubscribe nowJoin 16K+ engineers learning lessons from my \"raw and honest from the heart\" emails.Senior Mindset BookGet promoted, earn a bigger salary, work for top companiesLearn more\\nHave a burning question that you think I can answer? Hit me up on twitter and I\\'ll do my best.\\nWho am I and who do I help? I\\'m Swizec Teller and I turn coders into engineers with \"Raw and honest from the heart!\" writing. No bullshit. Real insights into the career and skills of a modern software engineer.\\nWant to become a true senior engineer? Take ownership, have autonomy, and be a force multiplier on your team. The Senior Engineer Mindset ebook can help 👉 swizec.com/senior-mindset. These are the shifts in mindset that unlocked my career.\\nCurious about Serverless and the modern backend? Check out Serverless Handbook, for frontend engineers 👉\\nServerlessHandbook.dev\\nWant to Stop copy pasting D3 examples and create data visualizations of your own? Learn how to build scalable dataviz React components your whole team can understand\\nwith React for Data Visualization\\nWant to get my best emails on JavaScript, React, Serverless, Fullstack Web, or Indie Hacking? Check out swizec.com/collections\\nDid someone amazing share this letter with you? Wonderful! You can sign up for my weekly letters for software engineers on their path to greatness, here: swizec.com/blog\\nWant to brush up on your modern JavaScript syntax? Check out my interactive cheatsheet: es6cheatsheet.com\\nBy the way, just in case no one has told you it yet today: I love and appreciate you for who you are ❤️Created by Swizec with ❤️ArticlesInterviewsCollectionsBooksCoursesWorkshopsTestimonialsAbout\\n\\n')"
      ]
     },
     "execution_count": 3,
     "metadata": {},
     "output_type": "execute_result"
    }
   ],
   "source": [
    "docs[0]"
   ]
  },
  {
   "cell_type": "code",
   "execution_count": null,
   "id": "eec1687a",
   "metadata": {},
   "outputs": [],
   "source": [
    "from utils.tools.retriever import vector_store"
   ]
  },
  {
   "cell_type": "code",
   "execution_count": 12,
   "id": "56fb4096",
   "metadata": {},
   "outputs": [
    {
     "data": {
      "text/plain": [
       "[]"
      ]
     },
     "execution_count": 12,
     "metadata": {},
     "output_type": "execute_result"
    }
   ],
   "source": [
    "vector_store.similarity_search_with_relevance_scores(\"large language models\")"
   ]
  },
  {
   "cell_type": "code",
   "execution_count": 13,
   "id": "f8e797a7",
   "metadata": {},
   "outputs": [],
   "source": [
    "retriever = vector_store.as_retriever()"
   ]
  },
  {
   "cell_type": "code",
   "execution_count": 15,
   "id": "9ece8f40",
   "metadata": {},
   "outputs": [
    {
     "data": {
      "text/plain": [
       "[]"
      ]
     },
     "execution_count": 15,
     "metadata": {},
     "output_type": "execute_result"
    }
   ],
   "source": [
    "retriever.invoke(\"the\")"
   ]
  }
 ],
 "metadata": {
  "kernelspec": {
   "display_name": "agent-test",
   "language": "python",
   "name": "python3"
  },
  "language_info": {
   "codemirror_mode": {
    "name": "ipython",
    "version": 3
   },
   "file_extension": ".py",
   "mimetype": "text/x-python",
   "name": "python",
   "nbconvert_exporter": "python",
   "pygments_lexer": "ipython3",
   "version": "3.11.5"
  }
 },
 "nbformat": 4,
 "nbformat_minor": 5
}
