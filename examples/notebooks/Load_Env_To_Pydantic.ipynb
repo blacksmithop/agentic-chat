{
 "cells": [
  {
   "cell_type": "code",
   "execution_count": 1,
   "id": "72299472",
   "metadata": {},
   "outputs": [],
   "source": [
    "from pydantic_settings import BaseSettings, SettingsConfigDict"
   ]
  },
  {
   "cell_type": "code",
   "execution_count": 5,
   "id": "9123b212",
   "metadata": {},
   "outputs": [],
   "source": [
    "class Settings(BaseSettings):\n",
    "    model_config = SettingsConfigDict(\n",
    "        env_file='.env',\n",
    "        env_file_encoding='utf-8',\n",
    "        extra='ignore'\n",
    "    )\n",
    "    \n",
    "    CHECKPOINTER : str"
   ]
  },
  {
   "cell_type": "code",
   "execution_count": 6,
   "id": "5f41681e",
   "metadata": {},
   "outputs": [],
   "source": [
    "settings = Settings()"
   ]
  },
  {
   "cell_type": "code",
   "execution_count": 7,
   "id": "7f4d8f74",
   "metadata": {},
   "outputs": [
    {
     "data": {
      "text/plain": [
       "Settings(CHECKPOINTER='sqlite')"
      ]
     },
     "execution_count": 7,
     "metadata": {},
     "output_type": "execute_result"
    }
   ],
   "source": [
    "settings"
   ]
  }
 ],
 "metadata": {
  "kernelspec": {
   "display_name": "agent-test",
   "language": "python",
   "name": "python3"
  },
  "language_info": {
   "codemirror_mode": {
    "name": "ipython",
    "version": 3
   },
   "file_extension": ".py",
   "mimetype": "text/x-python",
   "name": "python",
   "nbconvert_exporter": "python",
   "pygments_lexer": "ipython3",
   "version": "3.11.5"
  }
 },
 "nbformat": 4,
 "nbformat_minor": 5
}
