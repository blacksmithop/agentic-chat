{
 "cells": [
  {
   "cell_type": "code",
   "execution_count": 1,
   "id": "91010cbc",
   "metadata": {},
   "outputs": [
    {
     "data": {
      "text/plain": [
       "True"
      ]
     },
     "execution_count": 1,
     "metadata": {},
     "output_type": "execute_result"
    }
   ],
   "source": [
    "from dotenv import load_dotenv\n",
    "\n",
    "load_dotenv()"
   ]
  },
  {
   "cell_type": "code",
   "execution_count": 2,
   "id": "0e06e0a3",
   "metadata": {},
   "outputs": [],
   "source": [
    "from langchain_community.tools import DuckDuckGoSearchRun\n",
    "\n",
    "tool = DuckDuckGoSearchRun()\n",
    "tools = [tool]"
   ]
  },
  {
   "cell_type": "code",
   "execution_count": 3,
   "id": "199fa249",
   "metadata": {},
   "outputs": [
    {
     "data": {
      "text/plain": [
       "\"For those seeking to acquire 2025 Trump-themed gold and silver coins, the U.S. Gold Bureau offers a trusted and reputable option. Available coins include: 2025 1oz Gold American Eagle MS70 Coin - Donald Trump. 2025 1oz Silver American Eagle MS70 Coin - Donald Trump. Each coin is authenticated and certified, offered exclusively by the U.S ... As of April 2025, 1 oz silver Trump coins contain approximately $30 worth of silver at current market prices. ... A 1-ounce gold Trump coin from a reputable private mint might be more valuable to ... On the obverse of the 2025 1/10 oz Gold Eagle Coin, collectors will find the iconic Lady Liberty design first introduced on the $20 Gold Double Eagle in 1907. Created by Augustus Saint-Gaudens, this masterpiece depicts Liberty stepping forward with a torch in one hand and an olive branch in the other, with the U.S. Capitol and radiant sun rays ... Trump Coins is proud to produce the only and official gold designed by President Donald J. Trump. This is a 1oz .9999 / 24KT gold medallion and struck with a proof finish featuring our 45th President's profile on the obverse and 47 on the reverse. The President Trump Victory Gold Medallion is presented slabbed and graded. Donald Trump 2025 Gold Coin - A Timeless Collectible! 🇺🇸 Celebrate the legacy of the 47th President of the United States with this stunning Donald Trump 2025 Gold Coin. Crafted from high-quality metal with a zinc alloy core and gold plating, this commemorative coin is a must-have for collectors, patriots, and history enthusiasts alike!\""
      ]
     },
     "execution_count": 3,
     "metadata": {},
     "output_type": "execute_result"
    }
   ],
   "source": [
    "tool.invoke(\"Trump gold coin 2025\")"
   ]
  },
  {
   "cell_type": "code",
   "execution_count": 4,
   "id": "3fa3f9f9",
   "metadata": {},
   "outputs": [],
   "source": [
    "from langchain.chat_models import init_chat_model\n",
    "\n",
    "llm = init_chat_model(\n",
    "    \"azure_openai:gpt-4o\",\n",
    "    azure_deployment=\"gpt-4o\",\n",
    ")"
   ]
  },
  {
   "cell_type": "code",
   "execution_count": 5,
   "id": "9ae300e5",
   "metadata": {},
   "outputs": [
    {
     "data": {
      "text/plain": [
       "<langgraph.graph.state.StateGraph at 0x7f29e71d5870>"
      ]
     },
     "execution_count": 5,
     "metadata": {},
     "output_type": "execute_result"
    }
   ],
   "source": [
    "from typing import Annotated\n",
    "\n",
    "from typing_extensions import TypedDict\n",
    "\n",
    "from langgraph.graph import StateGraph, START, END\n",
    "from langgraph.graph.message import add_messages\n",
    "\n",
    "class State(TypedDict):\n",
    "    messages: Annotated[list, add_messages]\n",
    "\n",
    "graph_builder = StateGraph(State)\n",
    "\n",
    "# Modification: tell the LLM which tools it can call\n",
    "# highlight-next-line\n",
    "llm_with_tools = llm.bind_tools(tools)\n",
    "\n",
    "def chatbot(state: State):\n",
    "    return {\"messages\": [llm_with_tools.invoke(state[\"messages\"])]}\n",
    "\n",
    "graph_builder.add_node(\"chatbot\", chatbot)"
   ]
  },
  {
   "cell_type": "code",
   "execution_count": 6,
   "id": "3395f81b",
   "metadata": {},
   "outputs": [
    {
     "data": {
      "text/plain": [
       "<langgraph.graph.state.StateGraph at 0x7f29e71d5870>"
      ]
     },
     "execution_count": 6,
     "metadata": {},
     "output_type": "execute_result"
    }
   ],
   "source": [
    "import json\n",
    "\n",
    "from langchain_core.messages import ToolMessage\n",
    "\n",
    "\n",
    "class BasicToolNode:\n",
    "    \"\"\"A node that runs the tools requested in the last AIMessage.\"\"\"\n",
    "\n",
    "    def __init__(self, tools: list) -> None:\n",
    "        self.tools_by_name = {tool.name: tool for tool in tools}\n",
    "\n",
    "    def __call__(self, inputs: dict):\n",
    "        if messages := inputs.get(\"messages\", []):\n",
    "            message = messages[-1]\n",
    "        else:\n",
    "            raise ValueError(\"No message found in input\")\n",
    "        outputs = []\n",
    "        for tool_call in message.tool_calls:\n",
    "            tool_name = tool_call['name']\n",
    "            tool_args = tool_call['args']\n",
    "            tool_call_id=tool_call[\"id\"]\n",
    "            tool_result = self.tools_by_name[tool_name].invoke(\n",
    "                tool_args\n",
    "            )\n",
    "            outputs.append(\n",
    "                ToolMessage(\n",
    "                    content=json.dumps(tool_result),\n",
    "                    name=tool_name,\n",
    "                    tool_call_id=tool_call_id,\n",
    "                )\n",
    "            )\n",
    "        return {\"messages\": outputs}\n",
    "\n",
    "\n",
    "tool_node = BasicToolNode(tools=[tool])\n",
    "graph_builder.add_node(\"tools\", tool_node)"
   ]
  },
  {
   "cell_type": "code",
   "execution_count": 7,
   "id": "0e5d8a6a",
   "metadata": {},
   "outputs": [],
   "source": [
    "def route_tools(\n",
    "    state: State,\n",
    "):\n",
    "    \"\"\"\n",
    "    Use in the conditional_edge to route to the ToolNode if the last message\n",
    "    has tool calls. Otherwise, route to the end.\n",
    "    \"\"\"\n",
    "    if isinstance(state, list):\n",
    "        ai_message = state[-1]\n",
    "    elif messages := state.get(\"messages\", []):\n",
    "        ai_message = messages[-1]\n",
    "    else:\n",
    "        raise ValueError(f\"No messages found in input state to tool_edge: {state}\")\n",
    "    if hasattr(ai_message, \"tool_calls\") and len(ai_message.tool_calls) > 0:\n",
    "        return \"tools\"\n",
    "    return END\n",
    "\n",
    "\n",
    "# The `tools_condition` function returns \"tools\" if the chatbot asks to use a tool, and \"END\" if\n",
    "# it is fine directly responding. This conditional routing defines the main agent loop.\n",
    "graph_builder.add_conditional_edges(\n",
    "    \"chatbot\",\n",
    "    route_tools,\n",
    "    # The following dictionary lets you tell the graph to interpret the condition's outputs as a specific node\n",
    "    # It defaults to the identity function, but if you\n",
    "    # want to use a node named something else apart from \"tools\",\n",
    "    # You can update the value of the dictionary to something else\n",
    "    # e.g., \"tools\": \"my_tools\"\n",
    "    {\"tools\": \"tools\", END: END},\n",
    ")\n",
    "# Any time a tool is called, we return to the chatbot to decide the next step\n",
    "graph_builder.add_edge(\"tools\", \"chatbot\")\n",
    "graph_builder.add_edge(START, \"chatbot\")\n",
    "graph = graph_builder.compile()"
   ]
  },
  {
   "cell_type": "code",
   "execution_count": 8,
   "id": "7ded0c26",
   "metadata": {},
   "outputs": [
    {
     "data": {
      "image/png": "[encoded data removed]",
      "text/plain": [
       "<IPython.core.display.Image object>"
      ]
     },
     "metadata": {},
     "output_type": "display_data"
    }
   ],
   "source": [
    "from IPython.display import Image, display\n",
    "\n",
    "try:\n",
    "    display(Image(graph.get_graph().draw_mermaid_png()))\n",
    "except Exception:\n",
    "    # This requires some extra dependencies and is optional\n",
    "    pass"
   ]
  },
  {
   "cell_type": "code",
   "execution_count": 9,
   "id": "a379e210",
   "metadata": {},
   "outputs": [],
   "source": [
    "def stream_graph_updates(user_input: str):\n",
    "    for event in graph.stream({\"messages\": [{\"role\": \"user\", \"content\": user_input}]}):\n",
    "        for value in event.values():\n",
    "            print(\"Assistant:\", value[\"messages\"][-1].content)"
   ]
  },
  {
   "cell_type": "code",
   "execution_count": 10,
   "id": "d1d6c840",
   "metadata": {},
   "outputs": [
    {
     "name": "stdout",
     "output_type": "stream",
     "text": [
      "Assistant: \n",
      "Calling tool: duckduckgo_search with args: {'query': 'Trump gold coin website 2025'}\n",
      "Assistant: \"For those seeking to acquire 2025 Trump-themed gold and silver coins, the U.S. Gold Bureau offers a trusted and reputable option. Available coins include: 2025 1oz Gold American Eagle MS70 Coin - Donald Trump. 2025 1oz Silver American Eagle MS70 Coin - Donald Trump. Each coin is authenticated and certified, offered exclusively by the U.S ... Each 2025 1/2 oz American Gold Eagle Coin arrives in protective plastic slabs featuring a unique label. Each label includes a portrait of President Donald J. Trump alongside the JM Bullion logo. These coins have been graded Mint State 70, ensuring flawless condition with the full, original mint luster. Trump Coins is proud to produce the only and official gold designed by President Donald J. Trump. This is a 1oz .9999 / 24KT gold medallion and struck with a proof finish featuring our 45th President's profile on the obverse and 47 on the reverse. The President Trump Victory Gold Medallion is presented slabbed and graded. On the obverse of the 2025 1/10 oz Gold Eagle Coin, collectors will find the iconic Lady Liberty design first introduced on the $20 Gold Double Eagle in 1907. Created by Augustus Saint-Gaudens, this masterpiece depicts Liberty stepping forward with a torch in one hand and an olive branch in the other, with the U.S. Capitol and radiant sun rays ... The Evolution of Trump Commemorative Coins; Latest Releases in 2025. 1. The 2025 Trump Gold Eagle Coin; 2. Trump and Mount Rushmore Silver Coin; 3. Trump 2024 Campaign Commemorative Coin; 4. Trump and First Lady Melania Silver Duo Set; Market Trends and Collector Insights; Authenticity and Avoiding Counterfeits; Where to Buy Official Trump Coin ...\"\n",
      "Assistant: In 2025, Donald Trump has inspired a series of gold and silver commemorative coins that are being sold by trusted sellers like the U.S. Gold Bureau and other authorized dealers. These coins typically include:\n",
      "\n",
      "- **Gold American Eagle Coins (2025)**: Featuring a portrait of Trump alongside labels indicating his contributions and presidency.\n",
      "- **Trump Victory Gold Medallion**: Made with .9999 pure 24-karat gold, these medallions highlight President Trump’s profile with the number \"47,\" marking his representation as the 45th and potentially 47th U.S. president, depending on the context.\n",
      "- **Silver American Eagle Coins**: Featuring similar designs and issued as collector-grade coins in flawless mint conditions.\n",
      "\n",
      "Many coins have been released in graded and slabbed conditions to preserve collector value. They appeal to Trump supporters and coin collectors alike, ranging from commemorative campaign coins to specialty series, such as the Trump and Melania silver duo set and coins featuring Mount Rushmore redesigns with Trump’s likeness.\n",
      "\n",
      "Let me know if you’re looking for specific purchasing details!\n"
     ]
    }
   ],
   "source": [
    "user_input = \"Tell me about the gold coin website launched by Trump in 2025\"\n",
    "stream_graph_updates(user_input)"
   ]
  },
  {
   "cell_type": "markdown",
   "id": "b9d890e4",
   "metadata": {},
   "source": [
    "#### Analyzing the steps"
   ]
  },
  {
   "cell_type": "code",
   "execution_count": 12,
   "id": "38dea8cf",
   "metadata": {},
   "outputs": [
    {
     "name": "stdout",
     "output_type": "stream",
     "text": [
      "Tool usage:\n",
      "call_3hVJpL5ZXb8lzJHUbvV6qOah | duckduckgo_search | {'query': 'Trump gold coin website launched 2025'}\n",
      "Tool output:\n",
      "call_3hVJpL5ZXb8lzJHUbvV6qOah | b6e415e0-7ae2-493e-81e1-49e6561f0b29 | duckduckgo_search | \"The \\\"gold card\\\" website allowing people to buy U.S. permanent residency for $5 million will launc\n",
      "Message output:\n",
      "It seems there is significant public and media interest in a concept related to a \"gold coin\" or \"gold card\" initiative associated with former President Donald Trump in 2025. However, the results more prominently feature a \"Gold Card\" initiative linked to U.S. permanent residency or a pathway to citizenship for a $5 million fee. Below is a summary:\n",
      "\n",
      "1. **Trump Gold Card**: This initiative allows foreigners to pay a one-time $5 million fee to acquire permanent residency or potentially citizenship in the U.S. The funds are suggested to help with national debt reduction.\n",
      "\n",
      "2. **Website Launch**: The Trump administration reportedly launched a website for this initiative, allowing applicants to register interest and possibly apply for the program.\n",
      "\n",
      "Given some ambiguity about whether this is what you meant, could you clarify if you're asking about the \"Gold Card\" for immigration or another \"Gold Coin\" project?\n"
     ]
    }
   ],
   "source": [
    "user_input = \"Tell me about the gold coin website launched by Trump in 2025\"\n",
    "\n",
    "for event in graph.stream({\"messages\": [{\"role\": \"user\", \"content\": user_input}]}):\n",
    "    # Handle chatbot node (tool calls and messages)\n",
    "    if \"chatbot\" in event:\n",
    "        for message in event[\"chatbot\"][\"messages\"]:\n",
    "            # Check for tool calls\n",
    "            if hasattr(message, \"tool_calls\") and message.tool_calls:\n",
    "                print(\"Tool usage:\")\n",
    "                for tool_call in message.tool_calls:\n",
    "                    tool_name = tool_call[\"name\"]\n",
    "                    tool_args = tool_call[\"args\"]\n",
    "                    tool_id = tool_call[\"id\"]\n",
    "                    print(f\"{tool_id} | {tool_name} | {tool_args}\")\n",
    "            # Print chatbot message content if no tool calls\n",
    "            elif message.content:\n",
    "                print(\"Message output:\")\n",
    "                print(message.content)\n",
    "\n",
    "    # Handle tools node (tool execution results)\n",
    "    if \"tools\" in event:\n",
    "        for message in event[\"tools\"][\"messages\"]:\n",
    "            print(\"Tool output:\")\n",
    "            tool_call_id = message.tool_call_id\n",
    "            message_id = message.id\n",
    "            tool_name = message.name\n",
    "            content_preview = message.content[:100]  # Limit content to 100 characters\n",
    "            print(f\"{tool_call_id} | {message_id} | {tool_name} | {content_preview}\")\n"
   ]
  }
 ],
 "metadata": {
  "kernelspec": {
   "display_name": "backend-Oyj2Po9u",
   "language": "python",
   "name": "python3"
  },
  "language_info": {
   "codemirror_mode": {
    "name": "ipython",
    "version": 3
   },
   "file_extension": ".py",
   "mimetype": "text/x-python",
   "name": "python",
   "nbconvert_exporter": "python",
   "pygments_lexer": "ipython3",
   "version": "3.10.5"
  }
 },
 "nbformat": 4,
 "nbformat_minor": 5
}
