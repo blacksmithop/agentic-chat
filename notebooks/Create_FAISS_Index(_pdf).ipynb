{
 "cells": [
  {
   "cell_type": "code",
   "execution_count": 13,
   "id": "6fb8caf9",
   "metadata": {},
   "outputs": [],
   "source": [
    "from langchain_community.document_loaders import PyPDFLoader\n",
    "import faiss\n",
    "from langchain_community.vectorstores import FAISS\n",
    "from langchain_community.docstore.in_memory import InMemoryDocstore\n",
    "\n",
    "from utils import embeddings\n",
    "from os import listdir, path\n",
    "from uuid import uuid4"
   ]
  },
  {
   "cell_type": "code",
   "execution_count": 2,
   "id": "8b99cef2",
   "metadata": {},
   "outputs": [
    {
     "name": "stdout",
     "output_type": "stream",
     "text": [
      "[\"LLM Powered Autonomous Agents _ Lil'Log.pdf\", \"Diffusion Models for Video Generation _ Lil'Log.pdf\", \"Adversarial Attacks on LLMs _ Lil'Log.pdf\", \"Thinking about High-Quality Human Data _ Lil'Log.pdf\", \"Extrinsic Hallucinations in LLMs _ Lil'Log.pdf\"]\n"
     ]
    }
   ],
   "source": [
    "PDF_DIR = \"./assets/pdf\"\n",
    "\n",
    "all_files = listdir(PDF_DIR)\n",
    "pdf_files = [file for file in all_files if file.endswith(\".pdf\")]\n",
    "print(pdf_files)"
   ]
  },
  {
   "cell_type": "code",
   "execution_count": 14,
   "id": "86053947",
   "metadata": {},
   "outputs": [],
   "source": [
    "def load_pdf_files(file_path: str):\n",
    "    for file_name in pdf_files:\n",
    "        file_path = path.join(PDF_DIR, file_name)\n",
    "        loader = PyPDFLoader(file_path=file_path)\n",
    "        docs = loader.load()\n",
    "        yield file_name, docs"
   ]
  },
  {
   "cell_type": "code",
   "execution_count": null,
   "id": "aec6ec8d",
   "metadata": {},
   "outputs": [],
   "source": [
    "index = faiss.IndexFlatL2(len(embeddings.embed_query(\"Hi\")))"
   ]
  },
  {
   "cell_type": "code",
   "execution_count": 11,
   "id": "48d4f954",
   "metadata": {},
   "outputs": [],
   "source": [
    "vector_store = FAISS(\n",
    "    embedding_function=embeddings,\n",
    "    index=index,\n",
    "    docstore=InMemoryDocstore(),\n",
    "    index_to_docstore_id={},\n",
    ")"
   ]
  },
  {
   "cell_type": "code",
   "execution_count": null,
   "id": "fc180c18",
   "metadata": {},
   "outputs": [
    {
     "name": "stdout",
     "output_type": "stream",
     "text": [
      "Faiss Index not found\n",
      "Indexing documents for LLM Powered Autonomous Agents _ Lil'Log.pdf\n",
      "Indexing documents for Diffusion Models for Video Generation _ Lil'Log.pdf\n",
      "Indexing documents for Adversarial Attacks on LLMs _ Lil'Log.pdf\n",
      "Indexing documents for Thinking about High-Quality Human Data _ Lil'Log.pdf\n",
      "Indexing documents for Extrinsic Hallucinations in LLMs _ Lil'Log.pdf\n"
     ]
    }
   ],
   "source": [
    "try:\n",
    "    vector_store.load_local(\"./assets/faiss_index/base\" , embeddings=embeddings, allow_dangerous_deserialization=True)\n",
    "except Exception as e:\n",
    "    print(f\"Faiss Index not found\")\n",
    "    for file_name, docs in load_pdf_files(file_path=PDF_DIR):\n",
    "        print(f\"Indexing documents for {file_name}\")\n",
    "        uuids = [uuid4().hex for _ in range(len(docs))]\n",
    "        vector_store.add_documents(documents=docs, ids=uuids)\n",
    "        \n",
    "    vector_store.save_local(\"./assets/faiss_index/base\")"
   ]
  },
  {
   "cell_type": "code",
   "execution_count": null,
   "id": "1e9b4c1c",
   "metadata": {},
   "outputs": [],
   "source": []
  }
 ],
 "metadata": {
  "kernelspec": {
   "display_name": "backend-Oyj2Po9u",
   "language": "python",
   "name": "python3"
  },
  "language_info": {
   "codemirror_mode": {
    "name": "ipython",
    "version": 3
   },
   "file_extension": ".py",
   "mimetype": "text/x-python",
   "name": "python",
   "nbconvert_exporter": "python",
   "pygments_lexer": "ipython3",
   "version": "3.10.5"
  }
 },
 "nbformat": 4,
 "nbformat_minor": 5
}
